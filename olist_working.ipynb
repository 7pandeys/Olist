{
 "cells": [
  {
   "cell_type": "code",
   "execution_count": 1,
   "id": "146649d3",
   "metadata": {},
   "outputs": [],
   "source": [
    "import pandas as pd\n",
    "import numpy as np\n",
    "import seaborn as sns\n",
    "import matplotlib as plt"
   ]
  },
  {
   "cell_type": "code",
   "execution_count": 2,
   "id": "d86b8c0c",
   "metadata": {},
   "outputs": [],
   "source": [
    "olist_marketing_qualified_leads   = pd.read_csv(r'C:\\Users\\91892\\Downloads\\olist_marketing_qualified_leads_dataset.csv')\n",
    "olist_closed_deals \t\t\t\t  = pd.read_csv(r'C:\\Users\\91892\\Downloads\\olist_closed_deals_dataset.csv')"
   ]
  },
  {
   "cell_type": "code",
   "execution_count": 3,
   "id": "3d76d4d8",
   "metadata": {},
   "outputs": [
    {
     "data": {
      "image/png": "[encoded data removed]",
      "text/plain": [
       "<Figure size 432x288 with 1 Axes>"
      ]
     },
     "metadata": {
      "needs_background": "light"
     },
     "output_type": "display_data"
    }
   ],
   "source": [
    "a=olist_marketing_qualified_leads['origin'].value_counts().plot.bar()"
   ]
  },
  {
   "cell_type": "code",
   "execution_count": 4,
   "id": "781c341d",
   "metadata": {},
   "outputs": [
    {
     "data": {
      "text/plain": [
       "mql_id                 0\n",
       "first_contact_date     0\n",
       "landing_page_id        0\n",
       "origin                60\n",
       "dtype: int64"
      ]
     },
     "execution_count": 4,
     "metadata": {},
     "output_type": "execute_result"
    }
   ],
   "source": [
    "olist_marketing_qualified_leads.isnull().sum()"
   ]
  },
  {
   "cell_type": "code",
   "execution_count": 5,
   "id": "7d3989e2",
   "metadata": {},
   "outputs": [
    {
     "data": {
      "text/html": [
       "<div>\n",
       "<style scoped>\n",
       "    .dataframe tbody tr th:only-of-type {\n",
       "        vertical-align: middle;\n",
       "    }\n",
       "\n",
       "    .dataframe tbody tr th {\n",
       "        vertical-align: top;\n",
       "    }\n",
       "\n",
       "    .dataframe thead th {\n",
       "        text-align: right;\n",
       "    }\n",
       "</style>\n",
       "<table border=\"1\" class=\"dataframe\">\n",
       "  <thead>\n",
       "    <tr style=\"text-align: right;\">\n",
       "      <th></th>\n",
       "      <th>mql_id</th>\n",
       "      <th>first_contact_date</th>\n",
       "      <th>landing_page_id</th>\n",
       "      <th>origin</th>\n",
       "    </tr>\n",
       "  </thead>\n",
       "  <tbody>\n",
       "    <tr>\n",
       "      <th>0</th>\n",
       "      <td>dac32acd4db4c29c230538b72f8dd87d</td>\n",
       "      <td>2018-02-01</td>\n",
       "      <td>88740e65d5d6b056e0cda098e1ea6313</td>\n",
       "      <td>social</td>\n",
       "    </tr>\n",
       "    <tr>\n",
       "      <th>1</th>\n",
       "      <td>8c18d1de7f67e60dbd64e3c07d7e9d5d</td>\n",
       "      <td>2017-10-20</td>\n",
       "      <td>007f9098284a86ee80ddeb25d53e0af8</td>\n",
       "      <td>paid_search</td>\n",
       "    </tr>\n",
       "    <tr>\n",
       "      <th>2</th>\n",
       "      <td>b4bc852d233dfefc5131f593b538befa</td>\n",
       "      <td>2018-03-22</td>\n",
       "      <td>a7982125ff7aa3b2054c6e44f9d28522</td>\n",
       "      <td>organic_search</td>\n",
       "    </tr>\n",
       "    <tr>\n",
       "      <th>3</th>\n",
       "      <td>6be030b81c75970747525b843c1ef4f8</td>\n",
       "      <td>2018-01-22</td>\n",
       "      <td>d45d558f0daeecf3cccdffe3c59684aa</td>\n",
       "      <td>email</td>\n",
       "    </tr>\n",
       "    <tr>\n",
       "      <th>4</th>\n",
       "      <td>5420aad7fec3549a85876ba1c529bd84</td>\n",
       "      <td>2018-02-21</td>\n",
       "      <td>b48ec5f3b04e9068441002a19df93c6c</td>\n",
       "      <td>organic_search</td>\n",
       "    </tr>\n",
       "  </tbody>\n",
       "</table>\n",
       "</div>"
      ],
      "text/plain": [
       "                             mql_id first_contact_date  \\\n",
       "0  dac32acd4db4c29c230538b72f8dd87d         2018-02-01   \n",
       "1  8c18d1de7f67e60dbd64e3c07d7e9d5d         2017-10-20   \n",
       "2  b4bc852d233dfefc5131f593b538befa         2018-03-22   \n",
       "3  6be030b81c75970747525b843c1ef4f8         2018-01-22   \n",
       "4  5420aad7fec3549a85876ba1c529bd84         2018-02-21   \n",
       "\n",
       "                    landing_page_id          origin  \n",
       "0  88740e65d5d6b056e0cda098e1ea6313          social  \n",
       "1  007f9098284a86ee80ddeb25d53e0af8     paid_search  \n",
       "2  a7982125ff7aa3b2054c6e44f9d28522  organic_search  \n",
       "3  d45d558f0daeecf3cccdffe3c59684aa           email  \n",
       "4  b48ec5f3b04e9068441002a19df93c6c  organic_search  "
      ]
     },
     "execution_count": 5,
     "metadata": {},
     "output_type": "execute_result"
    }
   ],
   "source": [
    "olist_marketing_qualified_leads.head(5)"
   ]
  },
  {
   "cell_type": "code",
   "execution_count": 6,
   "id": "dd882deb",
   "metadata": {},
   "outputs": [],
   "source": [
    "olist_marketing_qualified_leads['first_contact_date_mnth'] = olist_marketing_qualified_leads['first_contact_date'].apply(lambda x:x.split(\"-\")[1]) \n",
    "olist_marketing_qualified_leads['first_contact_date_yr'] = olist_marketing_qualified_leads['first_contact_date'].apply(lambda x:x.split(\"-\")[0]) \n",
    "olist_marketing_qualified_leads['first_contact_date_mnth']=olist_marketing_qualified_leads['first_contact_date_mnth'].astype('int')\n",
    "olist_marketing_qualified_leads['first_contact_date_yr']=olist_marketing_qualified_leads['first_contact_date_yr'].astype('int')\n",
    "\n",
    "olist_marketing_qualified_leads.info()"
   ]
  },
  {
   "cell_type": "code",
   "execution_count": 8,
   "id": "7c710d2f",
   "metadata": {},
   "outputs": [
    {
     "data": {
      "text/plain": [
       "<AxesSubplot:>"
      ]
     },
     "execution_count": 8,
     "metadata": {},
     "output_type": "execute_result"
    },
    {
     "data": {
      "image/png": "[encoded data removed]",
      "text/plain": [
       "<Figure size 432x288 with 1 Axes>"
      ]
     },
     "metadata": {
      "needs_background": "light"
     },
     "output_type": "display_data"
    }
   ],
   "source": [
    "olist_marketing_qualified_leads['first_contact_date_mnth'].value_counts().plot.bar()"
   ]
  },
  {
   "cell_type": "code",
   "execution_count": 9,
   "id": "02d85416",
   "metadata": {},
   "outputs": [
    {
     "data": {
      "text/plain": [
       "<AxesSubplot:>"
      ]
     },
     "execution_count": 9,
     "metadata": {},
     "output_type": "execute_result"
    },
    {
     "data": {
      "image/png": "[encoded data removed]",
      "text/plain": [
       "<Figure size 432x288 with 1 Axes>"
      ]
     },
     "metadata": {
      "needs_background": "light"
     },
     "output_type": "display_data"
    }
   ],
   "source": [
    "olist_marketing_qualified_leads['first_contact_date_yr'].value_counts().plot.bar()"
   ]
  },
  {
   "cell_type": "code",
   "execution_count": 10,
   "id": "9b0a8c76",
   "metadata": {},
   "outputs": [
    {
     "data": {
      "text/html": [
       "<div>\n",
       "<style scoped>\n",
       "    .dataframe tbody tr th:only-of-type {\n",
       "        vertical-align: middle;\n",
       "    }\n",
       "\n",
       "    .dataframe tbody tr th {\n",
       "        vertical-align: top;\n",
       "    }\n",
       "\n",
       "    .dataframe thead th {\n",
       "        text-align: right;\n",
       "    }\n",
       "</style>\n",
       "<table border=\"1\" class=\"dataframe\">\n",
       "  <thead>\n",
       "    <tr style=\"text-align: right;\">\n",
       "      <th></th>\n",
       "      <th>mql_id</th>\n",
       "      <th>first_contact_date</th>\n",
       "      <th>landing_page_id</th>\n",
       "      <th>origin</th>\n",
       "      <th>first_contact_date_mnth</th>\n",
       "      <th>first_contact_date_yr</th>\n",
       "    </tr>\n",
       "  </thead>\n",
       "  <tbody>\n",
       "    <tr>\n",
       "      <th>0</th>\n",
       "      <td>dac32acd4db4c29c230538b72f8dd87d</td>\n",
       "      <td>2018-02-01</td>\n",
       "      <td>88740e65d5d6b056e0cda098e1ea6313</td>\n",
       "      <td>social</td>\n",
       "      <td>2</td>\n",
       "      <td>2018</td>\n",
       "    </tr>\n",
       "    <tr>\n",
       "      <th>1</th>\n",
       "      <td>8c18d1de7f67e60dbd64e3c07d7e9d5d</td>\n",
       "      <td>2017-10-20</td>\n",
       "      <td>007f9098284a86ee80ddeb25d53e0af8</td>\n",
       "      <td>paid_search</td>\n",
       "      <td>10</td>\n",
       "      <td>2017</td>\n",
       "    </tr>\n",
       "    <tr>\n",
       "      <th>2</th>\n",
       "      <td>b4bc852d233dfefc5131f593b538befa</td>\n",
       "      <td>2018-03-22</td>\n",
       "      <td>a7982125ff7aa3b2054c6e44f9d28522</td>\n",
       "      <td>organic_search</td>\n",
       "      <td>3</td>\n",
       "      <td>2018</td>\n",
       "    </tr>\n",
       "    <tr>\n",
       "      <th>3</th>\n",
       "      <td>6be030b81c75970747525b843c1ef4f8</td>\n",
       "      <td>2018-01-22</td>\n",
       "      <td>d45d558f0daeecf3cccdffe3c59684aa</td>\n",
       "      <td>email</td>\n",
       "      <td>1</td>\n",
       "      <td>2018</td>\n",
       "    </tr>\n",
       "    <tr>\n",
       "      <th>4</th>\n",
       "      <td>5420aad7fec3549a85876ba1c529bd84</td>\n",
       "      <td>2018-02-21</td>\n",
       "      <td>b48ec5f3b04e9068441002a19df93c6c</td>\n",
       "      <td>organic_search</td>\n",
       "      <td>2</td>\n",
       "      <td>2018</td>\n",
       "    </tr>\n",
       "  </tbody>\n",
       "</table>\n",
       "</div>"
      ],
      "text/plain": [
       "                             mql_id first_contact_date  \\\n",
       "0  dac32acd4db4c29c230538b72f8dd87d         2018-02-01   \n",
       "1  8c18d1de7f67e60dbd64e3c07d7e9d5d         2017-10-20   \n",
       "2  b4bc852d233dfefc5131f593b538befa         2018-03-22   \n",
       "3  6be030b81c75970747525b843c1ef4f8         2018-01-22   \n",
       "4  5420aad7fec3549a85876ba1c529bd84         2018-02-21   \n",
       "\n",
       "                    landing_page_id          origin  first_contact_date_mnth  \\\n",
       "0  88740e65d5d6b056e0cda098e1ea6313          social                        2   \n",
       "1  007f9098284a86ee80ddeb25d53e0af8     paid_search                       10   \n",
       "2  a7982125ff7aa3b2054c6e44f9d28522  organic_search                        3   \n",
       "3  d45d558f0daeecf3cccdffe3c59684aa           email                        1   \n",
       "4  b48ec5f3b04e9068441002a19df93c6c  organic_search                        2   \n",
       "\n",
       "   first_contact_date_yr  \n",
       "0                   2018  \n",
       "1                   2017  \n",
       "2                   2018  \n",
       "3                   2018  \n",
       "4                   2018  "
      ]
     },
     "execution_count": 10,
     "metadata": {},
     "output_type": "execute_result"
    }
   ],
   "source": [
    "olist_marketing_qualified_leads.head(5)"
   ]
  },
  {
   "cell_type": "code",
   "execution_count": 13,
   "id": "365f8da8",
   "metadata": {},
   "outputs": [
    {
     "name": "stdout",
     "output_type": "stream",
     "text": [
      "<class 'pandas.core.frame.DataFrame'>\n",
      "RangeIndex: 8000 entries, 0 to 7999\n",
      "Data columns (total 10 columns):\n",
      " #   Column                     Non-Null Count  Dtype\n",
      "---  ------                     --------------  -----\n",
      " 0   Country_direct_traffic     8000 non-null   uint8\n",
      " 1   Country_display            8000 non-null   uint8\n",
      " 2   Country_email              8000 non-null   uint8\n",
      " 3   Country_organic_search     8000 non-null   uint8\n",
      " 4   Country_other              8000 non-null   uint8\n",
      " 5   Country_other_publicities  8000 non-null   uint8\n",
      " 6   Country_paid_search        8000 non-null   uint8\n",
      " 7   Country_referral           8000 non-null   uint8\n",
      " 8   Country_social             8000 non-null   uint8\n",
      " 9   Country_unknown            8000 non-null   uint8\n",
      "dtypes: uint8(10)\n",
      "memory usage: 78.2 KB\n"
     ]
    }
   ],
   "source": [
    "y = pd.get_dummies(olist_marketing_qualified_leads.origin, prefix='Country')\n",
    "y.info()\n",
    "#y.value_counts().plot.barh()"
   ]
  },
  {
   "cell_type": "code",
   "execution_count": 14,
   "id": "5099f6be",
   "metadata": {},
   "outputs": [],
   "source": [
    "#np.where(olist_marketing_qualified_leads[])"
   ]
  },
  {
   "cell_type": "code",
   "execution_count": 15,
   "id": "396b5bba",
   "metadata": {},
   "outputs": [
    {
     "data": {
      "text/plain": [
       "Index(['mql_id', 'seller_id', 'sdr_id', 'sr_id', 'won_date',\n",
       "       'business_segment', 'lead_type', 'lead_behaviour_profile',\n",
       "       'has_company', 'has_gtin', 'average_stock', 'business_type',\n",
       "       'declared_product_catalog_size', 'declared_monthly_revenue'],\n",
       "      dtype='object')"
      ]
     },
     "execution_count": 15,
     "metadata": {},
     "output_type": "execute_result"
    }
   ],
   "source": [
    "olist_closed_deals.columns"
   ]
  },
  {
   "cell_type": "code",
   "execution_count": 16,
   "id": "ed556de1",
   "metadata": {},
   "outputs": [
    {
     "data": {
      "text/plain": [
       "Index(['mql_id', 'first_contact_date', 'landing_page_id', 'origin',\n",
       "       'first_contact_date_mnth', 'first_contact_date_yr'],\n",
       "      dtype='object')"
      ]
     },
     "execution_count": 16,
     "metadata": {},
     "output_type": "execute_result"
    }
   ],
   "source": [
    "olist_marketing_qualified_leads.columns"
   ]
  },
  {
   "cell_type": "code",
   "execution_count": 26,
   "id": "330a23c3",
   "metadata": {},
   "outputs": [],
   "source": [
    "mrg_clos_lead = olist_marketing_qualified_leads.merge(olist_closed_deals, on='mql_id', how='left')"
   ]
  },
  {
   "cell_type": "code",
   "execution_count": 27,
   "id": "74bb65e6",
   "metadata": {},
   "outputs": [
    {
     "name": "stdout",
     "output_type": "stream",
     "text": [
      "Column mql_id :: 0.0 \n",
      "Column first_contact_date :: 0.0 \n",
      "Column landing_page_id :: 0.0 \n",
      "Column origin :: 0.75 \n",
      "Column first_contact_date_mnth :: 0.0 \n",
      "Column first_contact_date_yr :: 0.0 \n",
      "Column seller_id :: 89.48 \n",
      "Column sdr_id :: 89.48 \n",
      "Column sr_id :: 89.48 \n",
      "Column won_date :: 89.48 \n",
      "Column business_segment :: 89.49 \n",
      "Column lead_type :: 89.55 \n",
      "Column lead_behaviour_profile :: 91.69 \n",
      "Column has_company :: 99.21 \n",
      "Column has_gtin :: 99.2 \n",
      "Column average_stock :: 99.18 \n",
      "Column business_type :: 89.6 \n",
      "Column declared_product_catalog_size :: 99.14 \n",
      "Column declared_monthly_revenue :: 89.48 \n"
     ]
    }
   ],
   "source": [
    "for i in  mrg_clos_lead.columns :  \n",
    "    print(\"Column {} :: {} \".format(i,round(mrg_clos_lead.isnull().sum()[i]/mrg_clos_lead.count().max() *100,2)))"
   ]
  },
  {
   "cell_type": "code",
   "execution_count": 30,
   "id": "4a685974",
   "metadata": {},
   "outputs": [],
   "source": [
    "mrg_clos_lead['seller_id'].fillna(0, inplace=True)\n",
    "mrg_clos_lead['label'] =np.where(mrg_clos_lead['seller_id']==0, 0,1)"
   ]
  },
  {
   "cell_type": "code",
   "execution_count": 31,
   "id": "129e9401",
   "metadata": {},
   "outputs": [],
   "source": [
    "x= mrg_clos_lead[['first_contact_date_mnth', 'first_contact_date_yr']]\n",
    "Y = mrg_clos_lead[['label']]\n",
    "X=x.join(y)"
   ]
  },
  {
   "cell_type": "code",
   "execution_count": 32,
   "id": "ec0a49e3",
   "metadata": {},
   "outputs": [
    {
     "data": {
      "text/html": [
       "<div>\n",
       "<style scoped>\n",
       "    .dataframe tbody tr th:only-of-type {\n",
       "        vertical-align: middle;\n",
       "    }\n",
       "\n",
       "    .dataframe tbody tr th {\n",
       "        vertical-align: top;\n",
       "    }\n",
       "\n",
       "    .dataframe thead th {\n",
       "        text-align: right;\n",
       "    }\n",
       "</style>\n",
       "<table border=\"1\" class=\"dataframe\">\n",
       "  <thead>\n",
       "    <tr style=\"text-align: right;\">\n",
       "      <th></th>\n",
       "      <th>first_contact_date_mnth</th>\n",
       "      <th>first_contact_date_yr</th>\n",
       "      <th>Country_direct_traffic</th>\n",
       "      <th>Country_display</th>\n",
       "      <th>Country_email</th>\n",
       "      <th>Country_organic_search</th>\n",
       "      <th>Country_other</th>\n",
       "      <th>Country_other_publicities</th>\n",
       "      <th>Country_paid_search</th>\n",
       "      <th>Country_referral</th>\n",
       "      <th>Country_social</th>\n",
       "      <th>Country_unknown</th>\n",
       "      <th>label</th>\n",
       "    </tr>\n",
       "  </thead>\n",
       "  <tbody>\n",
       "    <tr>\n",
       "      <th>first_contact_date_mnth</th>\n",
       "      <td>1.000000</td>\n",
       "      <td>-0.885678</td>\n",
       "      <td>-0.014338</td>\n",
       "      <td>0.015247</td>\n",
       "      <td>0.025774</td>\n",
       "      <td>-0.029107</td>\n",
       "      <td>-0.028438</td>\n",
       "      <td>0.024784</td>\n",
       "      <td>0.011604</td>\n",
       "      <td>0.006469</td>\n",
       "      <td>0.016704</td>\n",
       "      <td>-0.004365</td>\n",
       "      <td>-0.131939</td>\n",
       "    </tr>\n",
       "    <tr>\n",
       "      <th>first_contact_date_yr</th>\n",
       "      <td>-0.885678</td>\n",
       "      <td>1.000000</td>\n",
       "      <td>0.007010</td>\n",
       "      <td>-0.032246</td>\n",
       "      <td>-0.027153</td>\n",
       "      <td>0.009297</td>\n",
       "      <td>0.003271</td>\n",
       "      <td>-0.024861</td>\n",
       "      <td>-0.005142</td>\n",
       "      <td>-0.003008</td>\n",
       "      <td>0.029925</td>\n",
       "      <td>-0.009201</td>\n",
       "      <td>0.140785</td>\n",
       "    </tr>\n",
       "    <tr>\n",
       "      <th>Country_direct_traffic</th>\n",
       "      <td>-0.014338</td>\n",
       "      <td>0.007010</td>\n",
       "      <td>1.000000</td>\n",
       "      <td>-0.031558</td>\n",
       "      <td>-0.066097</td>\n",
       "      <td>-0.163639</td>\n",
       "      <td>-0.035653</td>\n",
       "      <td>-0.023344</td>\n",
       "      <td>-0.128256</td>\n",
       "      <td>-0.049483</td>\n",
       "      <td>-0.116211</td>\n",
       "      <td>-0.102928</td>\n",
       "      <td>0.005862</td>\n",
       "    </tr>\n",
       "    <tr>\n",
       "      <th>Country_display</th>\n",
       "      <td>0.015247</td>\n",
       "      <td>-0.032246</td>\n",
       "      <td>-0.031558</td>\n",
       "      <td>1.000000</td>\n",
       "      <td>-0.031355</td>\n",
       "      <td>-0.077628</td>\n",
       "      <td>-0.016914</td>\n",
       "      <td>-0.011074</td>\n",
       "      <td>-0.060843</td>\n",
       "      <td>-0.023474</td>\n",
       "      <td>-0.055129</td>\n",
       "      <td>-0.048828</td>\n",
       "      <td>-0.021691</td>\n",
       "    </tr>\n",
       "    <tr>\n",
       "      <th>Country_email</th>\n",
       "      <td>0.025774</td>\n",
       "      <td>-0.027153</td>\n",
       "      <td>-0.066097</td>\n",
       "      <td>-0.031355</td>\n",
       "      <td>1.000000</td>\n",
       "      <td>-0.162587</td>\n",
       "      <td>-0.035424</td>\n",
       "      <td>-0.023194</td>\n",
       "      <td>-0.127432</td>\n",
       "      <td>-0.049165</td>\n",
       "      <td>-0.115464</td>\n",
       "      <td>-0.102266</td>\n",
       "      <td>-0.062484</td>\n",
       "    </tr>\n",
       "    <tr>\n",
       "      <th>Country_organic_search</th>\n",
       "      <td>-0.029107</td>\n",
       "      <td>0.009297</td>\n",
       "      <td>-0.163639</td>\n",
       "      <td>-0.077628</td>\n",
       "      <td>-0.162587</td>\n",
       "      <td>1.000000</td>\n",
       "      <td>-0.087701</td>\n",
       "      <td>-0.057422</td>\n",
       "      <td>-0.315488</td>\n",
       "      <td>-0.121719</td>\n",
       "      <td>-0.285859</td>\n",
       "      <td>-0.253186</td>\n",
       "      <td>0.026425</td>\n",
       "    </tr>\n",
       "    <tr>\n",
       "      <th>Country_other</th>\n",
       "      <td>-0.028438</td>\n",
       "      <td>0.003271</td>\n",
       "      <td>-0.035653</td>\n",
       "      <td>-0.016914</td>\n",
       "      <td>-0.035424</td>\n",
       "      <td>-0.087701</td>\n",
       "      <td>1.000000</td>\n",
       "      <td>-0.012511</td>\n",
       "      <td>-0.068738</td>\n",
       "      <td>-0.026520</td>\n",
       "      <td>-0.062283</td>\n",
       "      <td>-0.055164</td>\n",
       "      <td>-0.035398</td>\n",
       "    </tr>\n",
       "    <tr>\n",
       "      <th>Country_other_publicities</th>\n",
       "      <td>0.024784</td>\n",
       "      <td>-0.024861</td>\n",
       "      <td>-0.023344</td>\n",
       "      <td>-0.011074</td>\n",
       "      <td>-0.023194</td>\n",
       "      <td>-0.057422</td>\n",
       "      <td>-0.012511</td>\n",
       "      <td>1.000000</td>\n",
       "      <td>-0.045006</td>\n",
       "      <td>-0.017364</td>\n",
       "      <td>-0.040779</td>\n",
       "      <td>-0.036118</td>\n",
       "      <td>-0.017429</td>\n",
       "    </tr>\n",
       "    <tr>\n",
       "      <th>Country_paid_search</th>\n",
       "      <td>0.011604</td>\n",
       "      <td>-0.005142</td>\n",
       "      <td>-0.128256</td>\n",
       "      <td>-0.060843</td>\n",
       "      <td>-0.127432</td>\n",
       "      <td>-0.315488</td>\n",
       "      <td>-0.068738</td>\n",
       "      <td>-0.045006</td>\n",
       "      <td>1.000000</td>\n",
       "      <td>-0.095400</td>\n",
       "      <td>-0.224049</td>\n",
       "      <td>-0.198440</td>\n",
       "      <td>0.028683</td>\n",
       "    </tr>\n",
       "    <tr>\n",
       "      <th>Country_referral</th>\n",
       "      <td>0.006469</td>\n",
       "      <td>-0.003008</td>\n",
       "      <td>-0.049483</td>\n",
       "      <td>-0.023474</td>\n",
       "      <td>-0.049165</td>\n",
       "      <td>-0.121719</td>\n",
       "      <td>-0.026520</td>\n",
       "      <td>-0.017364</td>\n",
       "      <td>-0.095400</td>\n",
       "      <td>1.000000</td>\n",
       "      <td>-0.086441</td>\n",
       "      <td>-0.076561</td>\n",
       "      <td>-0.012968</td>\n",
       "    </tr>\n",
       "    <tr>\n",
       "      <th>Country_social</th>\n",
       "      <td>0.016704</td>\n",
       "      <td>0.029925</td>\n",
       "      <td>-0.116211</td>\n",
       "      <td>-0.055129</td>\n",
       "      <td>-0.115464</td>\n",
       "      <td>-0.285859</td>\n",
       "      <td>-0.062283</td>\n",
       "      <td>-0.040779</td>\n",
       "      <td>-0.224049</td>\n",
       "      <td>-0.086441</td>\n",
       "      <td>1.000000</td>\n",
       "      <td>-0.179804</td>\n",
       "      <td>-0.072963</td>\n",
       "    </tr>\n",
       "    <tr>\n",
       "      <th>Country_unknown</th>\n",
       "      <td>-0.004365</td>\n",
       "      <td>-0.009201</td>\n",
       "      <td>-0.102928</td>\n",
       "      <td>-0.048828</td>\n",
       "      <td>-0.102266</td>\n",
       "      <td>-0.253186</td>\n",
       "      <td>-0.055164</td>\n",
       "      <td>-0.036118</td>\n",
       "      <td>-0.198440</td>\n",
       "      <td>-0.076561</td>\n",
       "      <td>-0.179804</td>\n",
       "      <td>1.000000</td>\n",
       "      <td>0.074937</td>\n",
       "    </tr>\n",
       "    <tr>\n",
       "      <th>label</th>\n",
       "      <td>-0.131939</td>\n",
       "      <td>0.140785</td>\n",
       "      <td>0.005862</td>\n",
       "      <td>-0.021691</td>\n",
       "      <td>-0.062484</td>\n",
       "      <td>0.026425</td>\n",
       "      <td>-0.035398</td>\n",
       "      <td>-0.017429</td>\n",
       "      <td>0.028683</td>\n",
       "      <td>-0.012968</td>\n",
       "      <td>-0.072963</td>\n",
       "      <td>0.074937</td>\n",
       "      <td>1.000000</td>\n",
       "    </tr>\n",
       "  </tbody>\n",
       "</table>\n",
       "</div>"
      ],
      "text/plain": [
       "                           first_contact_date_mnth  first_contact_date_yr  \\\n",
       "first_contact_date_mnth                   1.000000              -0.885678   \n",
       "first_contact_date_yr                    -0.885678               1.000000   \n",
       "Country_direct_traffic                   -0.014338               0.007010   \n",
       "Country_display                           0.015247              -0.032246   \n",
       "Country_email                             0.025774              -0.027153   \n",
       "Country_organic_search                   -0.029107               0.009297   \n",
       "Country_other                            -0.028438               0.003271   \n",
       "Country_other_publicities                 0.024784              -0.024861   \n",
       "Country_paid_search                       0.011604              -0.005142   \n",
       "Country_referral                          0.006469              -0.003008   \n",
       "Country_social                            0.016704               0.029925   \n",
       "Country_unknown                          -0.004365              -0.009201   \n",
       "label                                    -0.131939               0.140785   \n",
       "\n",
       "                           Country_direct_traffic  Country_display  \\\n",
       "first_contact_date_mnth                 -0.014338         0.015247   \n",
       "first_contact_date_yr                    0.007010        -0.032246   \n",
       "Country_direct_traffic                   1.000000        -0.031558   \n",
       "Country_display                         -0.031558         1.000000   \n",
       "Country_email                           -0.066097        -0.031355   \n",
       "Country_organic_search                  -0.163639        -0.077628   \n",
       "Country_other                           -0.035653        -0.016914   \n",
       "Country_other_publicities               -0.023344        -0.011074   \n",
       "Country_paid_search                     -0.128256        -0.060843   \n",
       "Country_referral                        -0.049483        -0.023474   \n",
       "Country_social                          -0.116211        -0.055129   \n",
       "Country_unknown                         -0.102928        -0.048828   \n",
       "label                                    0.005862        -0.021691   \n",
       "\n",
       "                           Country_email  Country_organic_search  \\\n",
       "first_contact_date_mnth         0.025774               -0.029107   \n",
       "first_contact_date_yr          -0.027153                0.009297   \n",
       "Country_direct_traffic         -0.066097               -0.163639   \n",
       "Country_display                -0.031355               -0.077628   \n",
       "Country_email                   1.000000               -0.162587   \n",
       "Country_organic_search         -0.162587                1.000000   \n",
       "Country_other                  -0.035424               -0.087701   \n",
       "Country_other_publicities      -0.023194               -0.057422   \n",
       "Country_paid_search            -0.127432               -0.315488   \n",
       "Country_referral               -0.049165               -0.121719   \n",
       "Country_social                 -0.115464               -0.285859   \n",
       "Country_unknown                -0.102266               -0.253186   \n",
       "label                          -0.062484                0.026425   \n",
       "\n",
       "                           Country_other  Country_other_publicities  \\\n",
       "first_contact_date_mnth        -0.028438                   0.024784   \n",
       "first_contact_date_yr           0.003271                  -0.024861   \n",
       "Country_direct_traffic         -0.035653                  -0.023344   \n",
       "Country_display                -0.016914                  -0.011074   \n",
       "Country_email                  -0.035424                  -0.023194   \n",
       "Country_organic_search         -0.087701                  -0.057422   \n",
       "Country_other                   1.000000                  -0.012511   \n",
       "Country_other_publicities      -0.012511                   1.000000   \n",
       "Country_paid_search            -0.068738                  -0.045006   \n",
       "Country_referral               -0.026520                  -0.017364   \n",
       "Country_social                 -0.062283                  -0.040779   \n",
       "Country_unknown                -0.055164                  -0.036118   \n",
       "label                          -0.035398                  -0.017429   \n",
       "\n",
       "                           Country_paid_search  Country_referral  \\\n",
       "first_contact_date_mnth               0.011604          0.006469   \n",
       "first_contact_date_yr                -0.005142         -0.003008   \n",
       "Country_direct_traffic               -0.128256         -0.049483   \n",
       "Country_display                      -0.060843         -0.023474   \n",
       "Country_email                        -0.127432         -0.049165   \n",
       "Country_organic_search               -0.315488         -0.121719   \n",
       "Country_other                        -0.068738         -0.026520   \n",
       "Country_other_publicities            -0.045006         -0.017364   \n",
       "Country_paid_search                   1.000000         -0.095400   \n",
       "Country_referral                     -0.095400          1.000000   \n",
       "Country_social                       -0.224049         -0.086441   \n",
       "Country_unknown                      -0.198440         -0.076561   \n",
       "label                                 0.028683         -0.012968   \n",
       "\n",
       "                           Country_social  Country_unknown     label  \n",
       "first_contact_date_mnth          0.016704        -0.004365 -0.131939  \n",
       "first_contact_date_yr            0.029925        -0.009201  0.140785  \n",
       "Country_direct_traffic          -0.116211        -0.102928  0.005862  \n",
       "Country_display                 -0.055129        -0.048828 -0.021691  \n",
       "Country_email                   -0.115464        -0.102266 -0.062484  \n",
       "Country_organic_search          -0.285859        -0.253186  0.026425  \n",
       "Country_other                   -0.062283        -0.055164 -0.035398  \n",
       "Country_other_publicities       -0.040779        -0.036118 -0.017429  \n",
       "Country_paid_search             -0.224049        -0.198440  0.028683  \n",
       "Country_referral                -0.086441        -0.076561 -0.012968  \n",
       "Country_social                   1.000000        -0.179804 -0.072963  \n",
       "Country_unknown                 -0.179804         1.000000  0.074937  \n",
       "label                           -0.072963         0.074937  1.000000  "
      ]
     },
     "execution_count": 32,
     "metadata": {},
     "output_type": "execute_result"
    }
   ],
   "source": [
    "x2 = X.join(Y)\n",
    "\n",
    "x2.corr()"
   ]
  },
  {
   "cell_type": "code",
   "execution_count": 33,
   "id": "29140fe3",
   "metadata": {},
   "outputs": [
    {
     "data": {
      "text/plain": [
       "<AxesSubplot:>"
      ]
     },
     "execution_count": 33,
     "metadata": {},
     "output_type": "execute_result"
    },
    {
     "data": {
      "image/png": "[encoded data removed]",
      "text/plain": [
       "<Figure size 432x288 with 2 Axes>"
      ]
     },
     "metadata": {
      "needs_background": "light"
     },
     "output_type": "display_data"
    }
   ],
   "source": [
    "sns.heatmap(x2)"
   ]
  },
  {
   "cell_type": "code",
   "execution_count": 34,
   "id": "df268adb",
   "metadata": {},
   "outputs": [
    {
     "data": {
      "text/plain": [
       "<AxesSubplot:xlabel='first_contact_date_yr', ylabel='label'>"
      ]
     },
     "execution_count": 34,
     "metadata": {},
     "output_type": "execute_result"
    },
    {
     "data": {
      "image/png": "[encoded data removed]",
      "text/plain": [
       "<Figure size 432x288 with 1 Axes>"
      ]
     },
     "metadata": {
      "needs_background": "light"
     },
     "output_type": "display_data"
    }
   ],
   "source": [
    "sns.scatterplot(    x=x2['first_contact_date_yr'],\n",
    "    y=x2['label'],\n",
    "    #hue=x2['first_contact_date_mnth'],\n",
    "    #style=x2['first_contact_date_mnth'],\n",
    "    #size=x2['first_contact_date_mnth'],\n",
    "    data=x2,)"
   ]
  },
  {
   "cell_type": "code",
   "execution_count": 35,
   "id": "43d63644",
   "metadata": {},
   "outputs": [
    {
     "data": {
      "text/plain": [
       "Index(['first_contact_date_mnth', 'first_contact_date_yr',\n",
       "       'Country_direct_traffic', 'Country_display', 'Country_email',\n",
       "       'Country_organic_search', 'Country_other', 'Country_other_publicities',\n",
       "       'Country_paid_search', 'Country_referral', 'Country_social',\n",
       "       'Country_unknown'],\n",
       "      dtype='object')"
      ]
     },
     "execution_count": 35,
     "metadata": {},
     "output_type": "execute_result"
    }
   ],
   "source": [
    "X.columns"
   ]
  },
  {
   "cell_type": "code",
   "execution_count": 38,
   "id": "497775a5",
   "metadata": {},
   "outputs": [
    {
     "name": "stderr",
     "output_type": "stream",
     "text": [
      "C:\\Users\\91892\\AppData\\Local\\Temp/ipykernel_1396/3068787747.py:6: DataConversionWarning: A column-vector y was passed when a 1d array was expected. Please change the shape of y to (n_samples,), for example using ravel().\n",
      "  model.fit(X_train, y_train)\n"
     ]
    },
    {
     "name": "stdout",
     "output_type": "stream",
     "text": [
      "Training Score : 0.8923507462686567\n",
      "Test Score : 0.9\n",
      "Accuracy : 2376\n",
      "Confusion Matrix : \n",
      "[[2375    1]\n",
      " [ 263    1]]\n"
     ]
    }
   ],
   "source": [
    "from sklearn.ensemble import RandomForestClassifier as rfc\n",
    "from sklearn.model_selection import train_test_split\n",
    "from sklearn.metrics import accuracy_score, confusion_matrix\n",
    "X_train, X_test, y_train, y_test = train_test_split(X, Y, test_size=0.33, random_state=42)\n",
    "model = rfc() \n",
    "model.fit(X_train, y_train)\n",
    "y_pred = model.predict(X_test)\n",
    "print(\"Training Score : {}\".format(model.score(X_train, y_train)))\n",
    "print(\"Test Score : {}\".format(model.score(X_test, y_test)))\n",
    "print(\"Accuracy : {}\".format(accuracy_score(y_test, y_pred, normalize= False)))\n",
    "print(\"Confusion Matrix : \\n{}\".format(confusion_matrix(y_test, y_pred)))"
   ]
  },
  {
   "cell_type": "code",
   "execution_count": 39,
   "id": "cf48b527",
   "metadata": {},
   "outputs": [
    {
     "name": "stderr",
     "output_type": "stream",
     "text": [
      "c:\\users\\91892\\ccdp\\lib\\site-packages\\sklearn\\utils\\validation.py:63: DataConversionWarning: A column-vector y was passed when a 1d array was expected. Please change the shape of y to (n_samples, ), for example using ravel().\n",
      "  return f(*args, **kwargs)\n"
     ]
    },
    {
     "name": "stdout",
     "output_type": "stream",
     "text": [
      "Training Score : 0.8921641791044777\n",
      "Test Score : 0.9\n",
      "Accuracy : 2376\n",
      "Confusion Matrix : \n",
      "[[2376    0]\n",
      " [ 264    0]]\n"
     ]
    }
   ],
   "source": [
    "from sklearn.linear_model import LogisticRegression as LR\n",
    "model = LR()\n",
    "model.fit(X_train, y_train)\n",
    "y_pred = model.predict(X_test)\n",
    "print(\"Training Score : {}\".format(model.score(X_train, y_train)))\n",
    "print(\"Test Score : {}\".format(model.score(X_test, y_test)))\n",
    "print(\"Accuracy : {}\".format(accuracy_score(y_test, y_pred, normalize= False)))\n",
    "print(\"Confusion Matrix : \\n{}\".format(confusion_matrix(y_test, y_pred)))"
   ]
  },
  {
   "cell_type": "code",
   "execution_count": 40,
   "id": "8d79162d",
   "metadata": {},
   "outputs": [
    {
     "name": "stdout",
     "output_type": "stream",
     "text": [
      "Training Score : 0.8923507462686567\n",
      "Test Score : 0.9\n",
      "Accuracy : 2376\n",
      "Confusion Matrix : \n",
      "[[2375    1]\n",
      " [ 263    1]]\n"
     ]
    }
   ],
   "source": [
    "from sklearn.tree import DecisionTreeClassifier as DR\n",
    "model = DR()\n",
    "model.fit(X_train, y_train)\n",
    "y_pred = model.predict(X_test)\n",
    "print(\"Training Score : {}\".format(model.score(X_train, y_train)))\n",
    "print(\"Test Score : {}\".format(model.score(X_test, y_test)))\n",
    "print(\"Accuracy : {}\".format(accuracy_score(y_test, y_pred, normalize= False)))\n",
    "print(\"Confusion Matrix : \\n{}\".format(confusion_matrix(y_test, y_pred)))"
   ]
  },
  {
   "cell_type": "code",
   "execution_count": 41,
   "id": "67a7db92",
   "metadata": {},
   "outputs": [],
   "source": [
    "## Feature engineering"
   ]
  },
  {
   "cell_type": "code",
   "execution_count": null,
   "id": "13cbe0be",
   "metadata": {},
   "outputs": [],
   "source": []
  }
 ],
 "metadata": {
  "kernelspec": {
   "display_name": "Python 3 (ipykernel)",
   "language": "python",
   "name": "python3"
  },
  "language_info": {
   "codemirror_mode": {
    "name": "ipython",
    "version": 3
   },
   "file_extension": ".py",
   "mimetype": "text/x-python",
   "name": "python",
   "nbconvert_exporter": "python",
   "pygments_lexer": "ipython3",
   "version": "3.9.6"
  }
 },
 "nbformat": 4,
 "nbformat_minor": 5
}
